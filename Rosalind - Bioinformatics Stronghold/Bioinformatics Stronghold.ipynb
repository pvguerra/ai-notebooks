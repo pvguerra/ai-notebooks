{
 "cells": [
  {
   "cell_type": "markdown",
   "metadata": {},
   "source": [
    "# Bioinformatics Stronghold - Tree"
   ]
  },
  {
   "cell_type": "markdown",
   "metadata": {},
   "source": [
    "## Counting DNA Nucleotides"
   ]
  },
  {
   "cell_type": "markdown",
   "metadata": {},
   "source": [
    "**Problem**\n",
    "\n",
    "A string is simply an ordered collection of symbols selected from some alphabet and formed into a word; the length of a string is the number of symbols that it contains.\n",
    "\n",
    "An example of a length 21 DNA string (whose alphabet contains the symbols 'A', 'C', 'G', and 'T') is \"ATGCTTCAGAAAGGTCTTACG.\"\n",
    "\n",
    "Given: A DNA string s of length at most 1000 nt.\n",
    "\n",
    "Return: Four integers (separated by spaces) counting the respective number of times that the symbols 'A', 'C', 'G', and 'T' occur in s.\n",
    "\n",
    "Sample Dataset:\n",
    "rosalind_dna.txt\n",
    "\n",
    "*Reference: http://rosalind.info/problems/dna/*"
   ]
  },
  {
   "cell_type": "code",
   "execution_count": 19,
   "metadata": {},
   "outputs": [
    {
     "name": "stdout",
     "output_type": "stream",
     "text": [
      "214 267 271 248\n"
     ]
    }
   ],
   "source": [
    "f = open('rosalind_dna.txt', 'r')\n",
    "s = f.read()\n",
    "print (s.count('A'), s.count('C'), s.count('G'), s.count('T'))"
   ]
  },
  {
   "cell_type": "markdown",
   "metadata": {},
   "source": [
    "## Transcribing DNA into RNA"
   ]
  },
  {
   "cell_type": "markdown",
   "metadata": {},
   "source": [
    "**Problem**\n",
    "\n",
    "An RNA string is a string formed from the alphabet containing 'A', 'C', 'G', and 'U'.\n",
    "\n",
    "Given a DNA string t corresponding to a coding strand, its transcribed RNA string u is formed by replacing all occurrences of 'T' in t with 'U' in u.\n",
    "\n",
    "Given: A DNA string t having length at most 1000 nt.\n",
    "\n",
    "Return: The transcribed RNA string of t.\n",
    "\n",
    "Sample Dataset:\n",
    "rosalind_rna.txt\n",
    "\n",
    "*Reference: http://rosalind.info/problems/rna/*"
   ]
  },
  {
   "cell_type": "code",
   "execution_count": 2,
   "metadata": {},
   "outputs": [
    {
     "name": "stdout",
     "output_type": "stream",
     "text": [
      "GACGAUCGCUUUACGUACAUCCCAGGCGAAACACACAAACAAUCUCAAUGGACACUGCCGAUGACUAGCUCUCGAAGCACCUCGUUGGAAGGUCGCCGUGAAUACUGGCCCCAGAGGUUUUUUUCACGCCAAGCUUGUGAUAUGAGAAGACUUCGUUAUAUAACUCGGGACACGCGUAUCAGGGGGCGUGCGACCUCCUGGUGCCAAGAGUGUAGUCUCCCAGUGUGUGACGUGUAAGCAUAUCACUAUAUUUGAGUAUCAAAUGGCAUGAGAUGGCACAGCCUGGAGGCUCGCUUCAUUUGCAUAAAUACUUCAUCUUCUGCCGGGGAGGGUGAGCAUGCAUGACGUGAAGCUAUAGAGGAUUCAGGGACAUUCCGCUUCAUCGAACAGGCCCGGUGGUAGGGACCUAGCCUCACGAACGGGAACGCCCGCAUCGUAAGAUACCUGUGGUGCCACACUCAGUGUUUGUGGCUUUACUUGCGUAUACAGCGAAGACUCAUCCGUAGGUACCCUGAGUUAAACUACAUGCUCUUGCGGGCCUGGGGCGCGUUUCUAGCGGAGAACUGCACGAGAACCGCCCUUGCCAUGUGGAAGAACCGGGCGAUGCGACUGAAUAGUGAGCCGUAAUUUAACGGACUGAGUCGUAUGCUCUCAAGGAGAGUCUCGUGAUGUCUCCCUACUGAUGUUGAGGCUAUCAGUACUUGAAGGGACUGCAGAGCCCCUCAUAUGUAGUUGCCUCCGUCCAAAAUUCUUUUAGCAAUUAUUGAGUGGUUUAGUGAAGCGUUGCCACCUCGGCGAGAUUCUGGAGCCUAACGCCUAACUCUGUUCAACUCUGUAUGGCACGUUCGUUUGACUGCCACGCACAGAGAUGCGCCCUGAGCAUCUUUAGCCCGCACCGUCAAUGCAUAGACGCGCAGGUUGCCCCAUCGAUCUUGAAGGUCCUAGUUAAUGG\n",
      "\n"
     ]
    }
   ],
   "source": [
    "f = open('rosalind_rna.txt', 'r')\n",
    "t = f.read()\n",
    "print (t.replace('T', 'U'))"
   ]
  },
  {
   "cell_type": "markdown",
   "metadata": {
    "collapsed": true
   },
   "source": [
    "## Complementing a Strand of DNA"
   ]
  },
  {
   "cell_type": "markdown",
   "metadata": {},
   "source": [
    "**Problem**\n",
    "\n",
    "In DNA strings, symbols 'A' and 'T' are complements of each other, as are 'C' and 'G'.\n",
    "\n",
    "The reverse complement of a DNA string s is the string sc formed by reversing the symbols of s, then taking the complement of each symbol (e.g., the reverse complement of \"GTCA\" is \"TGAC\").\n",
    "\n",
    "Given: A DNA string s of length at most 1000 bp.\n",
    "\n",
    "Return: The reverse complement sc of s.\n",
    "\n",
    "Sample Dataset: rosalind_revc.txt\n",
    "\n",
    "*Reference: http://rosalind.info/problems/revc/*\n"
   ]
  },
  {
   "cell_type": "code",
   "execution_count": 20,
   "metadata": {},
   "outputs": [
    {
     "name": "stdout",
     "output_type": "stream",
     "text": [
      "\n",
      "CCTCGGGTAGGAGACGCTCCAACGAGGCACCCGGTTGGTGACCACGCGTTACTAATCCTATGCGATTATGCGACGCAGCACCGACGTGATGAAGGAAAGACAAATTCTGCAACCCGGATTGATGCCCTGGGGGAATCCCACATCACGGATGACAGAACAATCCCAACATCGAAGCGCGTCGTCGGCGATTTCTAAGTACTAGCCAACAGCCAAAGCCTTACGGCGACTGTCCTCGGCCGCCTGGGTCACCACGGATTACTGCGACCAGGAGAACAGATACGACGTTGTGATTGCATCACACGTCATCCCCAGGCGTGTGCCCTCTCAGAAAGACCTCTACCGGCGCTTCTACCCGCGGTTCTTGGGTTCAGCCGATAAACATCTGTCGTTGGGCGGGAGCGTAAATTATCACGATCAACTTGGCCGGTGGCTGAACAAGACGCCATGGCCGCCCCTGCTCCCAGGGTGTAAGCTCGAAGGACGGTTCACGTAATCCAGATATAGATTGGAACAAGGACGAATCGGTCCGCCGAAGCGGTCAAATCCGACGGAGCTTCTCGGCTAGTGAATACATATTTATAGAGGGACATAACCTGTTATGTCGTACAGCAGTCTCTCCTTTGATCCGCCGGCCTACGTGCGACTATCCCTCCTCACTCAGAGGGTACACTAAGGCTTTCCAGGAGCTGCGGAAAAGTTGGACGCTACTGGTCATACCCGTAGTTTGGCCCCTACATACTTTCCATGACGCGCCTGATCTCGGCTATGTCTGGGCCTTTACCCAAGCGCGCACCTATCCTCTGTTCCACTAGAGTGGAGACATTGCGTATGTTCCGGAGGGCACTTTCGGTGTCATATACTGCAGGGTCGTTTTCGGTGAGGCCTCTGCCGCGAAAGAGCTATGATGCATAGTTAGA\n"
     ]
    }
   ],
   "source": [
    "f = open('rosalind_revc.txt', 'r')\n",
    "trans = str.maketrans('ATGC', 'TACG')\n",
    "revc = f.read().translate(trans)\n",
    "print(revc[::-1])\n"
   ]
  },
  {
   "cell_type": "markdown",
   "metadata": {},
   "source": [
    "## Rabbits and Recurrence Relations"
   ]
  },
  {
   "cell_type": "markdown",
   "metadata": {},
   "source": [
    "**Problem**\n",
    "\n",
    "A sequence is an ordered collection of objects (usually numbers), which are allowed to repeat. Sequences can be finite or infinite. Two examples are the finite sequence (π,−2‾√,0,π) and the infinite sequence of odd numbers (1,3,5,7,9,…). We use the notation an to represent the n-th term of a sequence.\n",
    "\n",
    "A recurrence relation is a way of defining the terms of a sequence with respect to the values of previous terms. In the case of Fibonacci's rabbits from the introduction, any given month will contain the rabbits that were alive the previous month, plus any new offspring. A key observation is that the number of offspring in any month is equal to the number of rabbits that were alive two months prior. As a result, if Fn represents the number of rabbit pairs alive after the n-th month, then we obtain the Fibonacci sequence having terms Fn that are defined by the recurrence relation Fn=Fn−1+Fn−2 (with F1=F2=1 to initiate the sequence). Although the sequence bears Fibonacci's name, it was known to Indian mathematicians over two millennia ago.\n",
    "\n",
    "When finding the n-th term of a sequence defined by a recurrence relation, we can simply use the recurrence relation to generate terms for progressively larger values of n. This problem introduces us to the computational technique of dynamic programming, which successively builds up solutions by using the answers to smaller cases.\n",
    "\n",
    "Given: Positive integers n≤40 and k≤5.\n",
    "\n",
    "Return: The total number of rabbit pairs that will be present after n months, if we begin with 1 pair and in each generation, every pair of reproduction-age rabbits produces a litter of k rabbit pairs (instead of only 1 pair).\n",
    "\n",
    "Sample Dataset: rosalind_fib.txt\n",
    "\n",
    "*Reference: http://rosalind.info/problems/fib/*"
   ]
  },
  {
   "cell_type": "code",
   "execution_count": 45,
   "metadata": {},
   "outputs": [
    {
     "name": "stdout",
     "output_type": "stream",
     "text": [
      "20444528200\n"
     ]
    }
   ],
   "source": [
    "f = open('rosalind_fib.txt', 'r')\n",
    "f = f.read().split()\n",
    "n = int(f[0])\n",
    "k = int(f[1])\n",
    "\n",
    "def rabbits(n, k):\n",
    "   if n == 0:\n",
    "       return 0\n",
    "   if n == 1:\n",
    "       return 1\n",
    "   else:\n",
    "       return rabbits(n-1, k) + k*rabbits(n-2, k)\n",
    "print (rabbits(n, k))"
   ]
  },
  {
   "cell_type": "code",
   "execution_count": null,
   "metadata": {
    "collapsed": true
   },
   "outputs": [],
   "source": []
  }
 ],
 "metadata": {
  "kernelspec": {
   "display_name": "Python 3",
   "language": "python",
   "name": "python3"
  },
  "language_info": {
   "codemirror_mode": {
    "name": "ipython",
    "version": 3
   },
   "file_extension": ".py",
   "mimetype": "text/x-python",
   "name": "python",
   "nbconvert_exporter": "python",
   "pygments_lexer": "ipython3",
   "version": "3.6.2"
  }
 },
 "nbformat": 4,
 "nbformat_minor": 2
}
