{
 "cells": [
  {
   "cell_type": "markdown",
   "metadata": {},
   "source": [
    "# Bioinformatics Stronghold - Tree"
   ]
  },
  {
   "cell_type": "markdown",
   "metadata": {},
   "source": [
    "## Counting DNA Nucleotides"
   ]
  },
  {
   "cell_type": "markdown",
   "metadata": {},
   "source": [
    "**Problem**\n",
    "\n",
    "A string is simply an ordered collection of symbols selected from some alphabet and formed into a word; the length of a string is the number of symbols that it contains.\n",
    "\n",
    "An example of a length 21 DNA string (whose alphabet contains the symbols 'A', 'C', 'G', and 'T') is \"ATGCTTCAGAAAGGTCTTACG.\"\n",
    "\n",
    "Given: A DNA string s of length at most 1000 nt.\n",
    "\n",
    "Return: Four integers (separated by spaces) counting the respective number of times that the symbols 'A', 'C', 'G', and 'T' occur in s.\n",
    "\n",
    "Sample Dataset:\n",
    "rosalind_dna.txt\n",
    "\n",
    "*Reference: http://rosalind.info/problems/dna/*"
   ]
  },
  {
   "cell_type": "code",
   "execution_count": 19,
   "metadata": {},
   "outputs": [
    {
     "name": "stdout",
     "output_type": "stream",
     "text": [
      "214 267 271 248\n"
     ]
    }
   ],
   "source": [
    "f = open('rosalind_dna.txt', 'r')\n",
    "s = f.read()\n",
    "print (s.count('A'), s.count('C'), s.count('G'), s.count('T'))"
   ]
  },
  {
   "cell_type": "markdown",
   "metadata": {},
   "source": [
    "## Transcribing DNA into RNA"
   ]
  },
  {
   "cell_type": "markdown",
   "metadata": {},
   "source": [
    "**Problem**\n",
    "\n",
    "An RNA string is a string formed from the alphabet containing 'A', 'C', 'G', and 'U'.\n",
    "\n",
    "Given a DNA string t corresponding to a coding strand, its transcribed RNA string u is formed by replacing all occurrences of 'T' in t with 'U' in u.\n",
    "\n",
    "Given: A DNA string t having length at most 1000 nt.\n",
    "\n",
    "Return: The transcribed RNA string of t.\n",
    "\n",
    "Sample Dataset:\n",
    "rosalind_rna.txt\n",
    "\n",
    "*Reference: http://rosalind.info/problems/rna/*"
   ]
  },
  {
   "cell_type": "code",
   "execution_count": 2,
   "metadata": {},
   "outputs": [
    {
     "name": "stdout",
     "output_type": "stream",
     "text": [
      "GACGAUCGCUUUACGUACAUCCCAGGCGAAACACACAAACAAUCUCAAUGGACACUGCCGAUGACUAGCUCUCGAAGCACCUCGUUGGAAGGUCGCCGUGAAUACUGGCCCCAGAGGUUUUUUUCACGCCAAGCUUGUGAUAUGAGAAGACUUCGUUAUAUAACUCGGGACACGCGUAUCAGGGGGCGUGCGACCUCCUGGUGCCAAGAGUGUAGUCUCCCAGUGUGUGACGUGUAAGCAUAUCACUAUAUUUGAGUAUCAAAUGGCAUGAGAUGGCACAGCCUGGAGGCUCGCUUCAUUUGCAUAAAUACUUCAUCUUCUGCCGGGGAGGGUGAGCAUGCAUGACGUGAAGCUAUAGAGGAUUCAGGGACAUUCCGCUUCAUCGAACAGGCCCGGUGGUAGGGACCUAGCCUCACGAACGGGAACGCCCGCAUCGUAAGAUACCUGUGGUGCCACACUCAGUGUUUGUGGCUUUACUUGCGUAUACAGCGAAGACUCAUCCGUAGGUACCCUGAGUUAAACUACAUGCUCUUGCGGGCCUGGGGCGCGUUUCUAGCGGAGAACUGCACGAGAACCGCCCUUGCCAUGUGGAAGAACCGGGCGAUGCGACUGAAUAGUGAGCCGUAAUUUAACGGACUGAGUCGUAUGCUCUCAAGGAGAGUCUCGUGAUGUCUCCCUACUGAUGUUGAGGCUAUCAGUACUUGAAGGGACUGCAGAGCCCCUCAUAUGUAGUUGCCUCCGUCCAAAAUUCUUUUAGCAAUUAUUGAGUGGUUUAGUGAAGCGUUGCCACCUCGGCGAGAUUCUGGAGCCUAACGCCUAACUCUGUUCAACUCUGUAUGGCACGUUCGUUUGACUGCCACGCACAGAGAUGCGCCCUGAGCAUCUUUAGCCCGCACCGUCAAUGCAUAGACGCGCAGGUUGCCCCAUCGAUCUUGAAGGUCCUAGUUAAUGG\n",
      "\n"
     ]
    }
   ],
   "source": [
    "f = open('rosalind_rna.txt', 'r')\n",
    "t = f.read()\n",
    "print (t.replace('T', 'U'))"
   ]
  },
  {
   "cell_type": "markdown",
   "metadata": {
    "collapsed": true
   },
   "source": [
    "## Complementing a Strand of DNA"
   ]
  },
  {
   "cell_type": "markdown",
   "metadata": {},
   "source": [
    "**Problem**\n",
    "\n",
    "In DNA strings, symbols 'A' and 'T' are complements of each other, as are 'C' and 'G'.\n",
    "\n",
    "The reverse complement of a DNA string s is the string sc formed by reversing the symbols of s, then taking the complement of each symbol (e.g., the reverse complement of \"GTCA\" is \"TGAC\").\n",
    "\n",
    "Given: A DNA string s of length at most 1000 bp.\n",
    "\n",
    "Return: The reverse complement sc of s.\n",
    "\n",
    "Sample Dataset: rosalind_revc.txt\n",
    "\n",
    "*Reference: http://rosalind.info/problems/revc/*\n"
   ]
  },
  {
   "cell_type": "code",
   "execution_count": 20,
   "metadata": {},
   "outputs": [
    {
     "name": "stdout",
     "output_type": "stream",
     "text": [
      "\n",
      "CCTCGGGTAGGAGACGCTCCAACGAGGCACCCGGTTGGTGACCACGCGTTACTAATCCTATGCGATTATGCGACGCAGCACCGACGTGATGAAGGAAAGACAAATTCTGCAACCCGGATTGATGCCCTGGGGGAATCCCACATCACGGATGACAGAACAATCCCAACATCGAAGCGCGTCGTCGGCGATTTCTAAGTACTAGCCAACAGCCAAAGCCTTACGGCGACTGTCCTCGGCCGCCTGGGTCACCACGGATTACTGCGACCAGGAGAACAGATACGACGTTGTGATTGCATCACACGTCATCCCCAGGCGTGTGCCCTCTCAGAAAGACCTCTACCGGCGCTTCTACCCGCGGTTCTTGGGTTCAGCCGATAAACATCTGTCGTTGGGCGGGAGCGTAAATTATCACGATCAACTTGGCCGGTGGCTGAACAAGACGCCATGGCCGCCCCTGCTCCCAGGGTGTAAGCTCGAAGGACGGTTCACGTAATCCAGATATAGATTGGAACAAGGACGAATCGGTCCGCCGAAGCGGTCAAATCCGACGGAGCTTCTCGGCTAGTGAATACATATTTATAGAGGGACATAACCTGTTATGTCGTACAGCAGTCTCTCCTTTGATCCGCCGGCCTACGTGCGACTATCCCTCCTCACTCAGAGGGTACACTAAGGCTTTCCAGGAGCTGCGGAAAAGTTGGACGCTACTGGTCATACCCGTAGTTTGGCCCCTACATACTTTCCATGACGCGCCTGATCTCGGCTATGTCTGGGCCTTTACCCAAGCGCGCACCTATCCTCTGTTCCACTAGAGTGGAGACATTGCGTATGTTCCGGAGGGCACTTTCGGTGTCATATACTGCAGGGTCGTTTTCGGTGAGGCCTCTGCCGCGAAAGAGCTATGATGCATAGTTAGA\n"
     ]
    }
   ],
   "source": [
    "f = open('rosalind_revc.txt', 'r')\n",
    "trans = str.maketrans('ATGC', 'TACG')\n",
    "revc = f.read().translate(trans)\n",
    "print(revc[::-1])\n"
   ]
  },
  {
   "cell_type": "markdown",
   "metadata": {},
   "source": [
    "## Rabbits and Recurrence Relations"
   ]
  },
  {
   "cell_type": "markdown",
   "metadata": {},
   "source": [
    "**Problem**\n",
    "\n",
    "A sequence is an ordered collection of objects (usually numbers), which are allowed to repeat. Sequences can be finite or infinite. Two examples are the finite sequence (π,−2‾√,0,π) and the infinite sequence of odd numbers (1,3,5,7,9,…). We use the notation an to represent the n-th term of a sequence.\n",
    "\n",
    "A recurrence relation is a way of defining the terms of a sequence with respect to the values of previous terms. In the case of Fibonacci's rabbits from the introduction, any given month will contain the rabbits that were alive the previous month, plus any new offspring. A key observation is that the number of offspring in any month is equal to the number of rabbits that were alive two months prior. As a result, if Fn represents the number of rabbit pairs alive after the n-th month, then we obtain the Fibonacci sequence having terms Fn that are defined by the recurrence relation Fn=Fn−1+Fn−2 (with F1=F2=1 to initiate the sequence). Although the sequence bears Fibonacci's name, it was known to Indian mathematicians over two millennia ago.\n",
    "\n",
    "When finding the n-th term of a sequence defined by a recurrence relation, we can simply use the recurrence relation to generate terms for progressively larger values of n. This problem introduces us to the computational technique of dynamic programming, which successively builds up solutions by using the answers to smaller cases.\n",
    "\n",
    "Given: Positive integers n≤40 and k≤5.\n",
    "\n",
    "Return: The total number of rabbit pairs that will be present after n months, if we begin with 1 pair and in each generation, every pair of reproduction-age rabbits produces a litter of k rabbit pairs (instead of only 1 pair).\n",
    "\n",
    "Sample Dataset: rosalind_fib.txt\n",
    "\n",
    "*Reference: http://rosalind.info/problems/fib/*"
   ]
  },
  {
   "cell_type": "code",
   "execution_count": 45,
   "metadata": {},
   "outputs": [
    {
     "name": "stdout",
     "output_type": "stream",
     "text": [
      "20444528200\n"
     ]
    }
   ],
   "source": [
    "f = open('rosalind_fib.txt', 'r')\n",
    "f = f.read().split()\n",
    "n = int(f[0])\n",
    "k = int(f[1])\n",
    "\n",
    "def rabbits(n, k):\n",
    "   if n == 0:\n",
    "       return 0\n",
    "   if n == 1:\n",
    "       return 1\n",
    "   else:\n",
    "       return rabbits(n-1, k) + k*rabbits(n-2, k)\n",
    "print (rabbits(n, k))"
   ]
  },
  {
   "cell_type": "markdown",
   "metadata": {
    "collapsed": true
   },
   "source": [
    "## Counting Point Mutations"
   ]
  },
  {
   "cell_type": "markdown",
   "metadata": {},
   "source": [
    "**Problem**\n",
    "\n",
    "Given two strings s and t of equal length, the Hamming distance between s and t, denoted dH(s,t), is the number of corresponding symbols that differ in s and t.\n",
    "\n",
    "Given: Two DNA strings s and t of equal length (not exceeding 1 kbp).\n",
    "\n",
    "Return: The Hamming distance dH(s,t).\n",
    "\n",
    "Sample Dataset: rosalind_hamm.txt\n",
    "\n",
    "*Reference: http://rosalind.info/problems/hamm/*"
   ]
  },
  {
   "cell_type": "code",
   "execution_count": 22,
   "metadata": {},
   "outputs": [
    {
     "name": "stdout",
     "output_type": "stream",
     "text": [
      "475\n"
     ]
    }
   ],
   "source": [
    "f = open('rosalind_hamm.txt', 'r')\n",
    "f = f.read().split()\n",
    "s = f[0]\n",
    "t = f[1]\n",
    "count = 0\n",
    "\n",
    "for i in range(len(s)):\n",
    "    if s[i] != t[i]:\n",
    "        count = count + 1\n",
    "\n",
    "print (count)"
   ]
  },
  {
   "cell_type": "markdown",
   "metadata": {
    "collapsed": true
   },
   "source": [
    "## Translating RNA into Protein"
   ]
  },
  {
   "cell_type": "markdown",
   "metadata": {},
   "source": [
    "**Problem**\n",
    "\n",
    "The 20 commonly occurring amino acids are abbreviated by using 20 letters from the English alphabet (all letters except for B, J, O, U, X, and Z). Protein strings are constructed from these 20 symbols. Henceforth, the term genetic string will incorporate protein strings along with DNA strings and RNA strings.\n",
    "\n",
    "The RNA codon table dictates the details regarding the encoding of specific codons into the amino acid alphabet.\n",
    "\n",
    "Given: An RNA string s corresponding to a strand of mRNA (of length at most 10 kbp).\n",
    "\n",
    "Return: The protein string encoded by s.\n",
    "\n",
    "Sample Dataset: rosalind_prot.txt\n",
    "\n",
    "*Reference: http://rosalind.info/problems/prot/*"
   ]
  },
  {
   "cell_type": "code",
   "execution_count": 7,
   "metadata": {},
   "outputs": [
    {
     "name": "stdout",
     "output_type": "stream",
     "text": [
      "MSYRQGAKDLNTLSARKLSAETNEAFLVYTGVLLLVTHRTRVPNDTGLNIYANRKRFQRDVIKSFAAPGRTLPQTPPMERVTAAQRSNPALVNRDMEIFRENSVVVRRRRAYRAIPRKVVASHILRFVIYTHHGGIVYQAASDSPTECDPGCCLMSERPDQCLPELLTTLSATSSCFLVGSFEKSLSPHLFIGANGGWCPLLTHSYDFSTRRNGRGAVQAVCTFVQSIKRFLGLNRYDEAARRLRWRAGKGEISPSSYYRINDSGNSNDPDTPTWRCDLTNGVGEWRSCYLHDCTIRLVVSRIGGTHFHVRSLHADCKGVARRLRACVHTIRGIFTRGLSLNANKALIIYRRRPTRGGVPAVVAVASYASNSDKNVSRRIQNEPQTIISGTTPVQKGGAPITTVTHHHRRQEQTAPLRKTPLERVARFARLGFMATTERTSERSDERLSYPQASPGQPLMYAARTGACGIGTPCGTSLCILTAHRYANRCSRANLASFTNSPLRLRPVRSPPRRTRPYAGRTSDPIWRLGPAPETDMSVHRNQGRRYDASRPYSQTVKEADDVPQITLERLAAAGFAGSLSFGLISFFGWLNTVAAQFETKERSNGNVLANITCRQPCIVSNVPRIKSIDLICFGRLILVSVLHRTFADSETGTSHPRWTRPAVMYPELHGKPCRQREQVQSPFDRNYQAAPFNHLVHLIPGPHSFPPQNIPTRKVNGTVYDWRIITTSMLGLHSASTTCHSSGAPVGLLYYSTARSLVVAVQVVSNTTFFLVFAQPEYAGFARPRREPRVPECGSTLRRVDHPRAKLGRSLVLFLAGRLDYMDAYVRPDPGLRSRSVGRAMRLGEIIREILECVSTQRLPSYRTQGPTCAISPPIGLYWSPAPVVSQYNPLRRSRAVSRTLQCDDSLAGIARLQPRKLRGYDAWLPDLRPYGRNRRIIGMTTPMTNELKTTHSVARRSVVPSKVRIDALCITNTGGLDHQALVTSCRWAHRSLQTSVTPEPNREVYCPVGRVFRRRSRLAMTHKNSVLEVGFSVVQSSNSVDISPERSIPVNGVRIQKGIMALNKWNGRGVGYEEHPPCRAGFDVVFSPPLHYRELQHRYVVKCQMGAVRFRRFLDTPLKQADKQIRSEVLCVIVFSLHASRKGIIVGWDDQFVLPPSNSPVVLWCKGLKEDTTRIHLPQSATRWATRTMFPALCSVLYLMYRLTTHIAFICHALSAVSYVYATAHVQNRSIYSLVSSTLTNPTAVSLLWRFPTLAKFGYFASLHRMPSKDREVTTPVWYLIPCLRWPYFMVVTPLHISGRNCVISSPVWLFGDGLQLQNRDKTGYCENLAKYALRHRTLASRVISISDNLPNACPCNIALSPTRAAVSSRALHIGLLHGPSNSIYSCYARFQSARWYTWTMNISGPNRQSRLHPHHRSTRNGSRQRAGKIFFCLTPISVYALRSFAYICANWRTVGVECGDSATGGESRRCKLGSGMFPASSRTCLHVSRLKRYSVTRRKCMTLQLSCVHSRWIVSSVNWIERVSRTVQYAGLGIGRSPAIWGMGGHITPPVANLDGARVLFALDQAHSGAISTRRLDLLRGDPLALHCEGIYGGTTLLCIFIVPKTAVIVIRTKENINRSLYYFPSRPYNGKASLARRLSQPPHHGRLAAVGRAGAHSDKHSLTYYFPSRTAYKIGWLERQSHHKNSVFAPGACLPKPALVLVTPQSTYDGSRATSQTSAGVNRRRASCLQRKISTAAYLAVRSYSPDMRNGPGGPDSYCRRHPLVTPKVRSVLVPHQASDLLMLTLWLILPRALFELEKGPNSPKLPRGTFLLPNELVCGTIIYAHHFVTLMHQELSGTPWKMTSLVQRSRKVIDKGDGACRNKTVERPLVGQRWRDDKIRTKVIRSHAVVILGSCIREWILLKLASAVDGGVHEAVASLDMAGVRMRVRGQQKVYAYNITRRHPSFFNRRTWYRVRLGRQTQNPKAQPHAMPINSEAFYCREDKQIRHSENDHVHPWSLQASVRRSGAVQETGRFDKQLYWTVSKRETLHLYLPARSSCLEVDSTDEKPEVVGHIAEGYSSVSPRWHAIPQLICTIIAARRFRNWGVSAQAKSCLLMTEAARKRWDPVDAAYCRLQFLPIRGLQRPVPRRELVDYGLAWFVRTSAFRRMLYRNCEDHLMQNAMKRDITAWPALVPKCLRASVDITRLTKWFLIIVQKPHTNGARFSIPIDRLHQSRPSQPGIISVGLVRLRPVASRPMSSRLGASVVVLKTYPNHAYVVRITGAYPKAATMCGPPALPKTPAGHMAMSADVTNTRLYAARLPLIFPNLKRRGWHFPIRARHYYRYGGVDAEGQTSIHGRKMVRLAPSEVRTIGLSVLITRQRKKSESRTGELSCALDIGSGFRTVTGFVSDHRTPGFSLDWGHSYRGRVAYLGVLLKRRRRGGLLISEVRPMSCAFIQGALQRAISVCGCRSSGTPATRYETHKLKSVSRRRSFRCFRRALCDLHSAINVSHGDRSLMLYKSWCDQSCFFLRAGRFCGTLCTIKTHNNLPTPFEVLTNSANTPSGESQASTSCTQPTPSRAIRLGTSKIRGTSVRGHLHRYRRRHCPDAGLSITSARVSTPRSRPIAMIWRLMNQPAGFRFPFWLDGVILRTELTIKRMSARPSYSPVRKLIAPTIPCVQLDSDSPSSCAARIERPLRFCPDGANSHLDSSEPVPLLYQLKHGLVVDGWSWCHSVRQESGTLGAERRCTILTIYAGYYLCVVRCRDKTYRGHGHVLLLALSLVNCTTRQTGAAGMPSVRNAYAVGPCLTLPSFSGVNGQRRTCFKLVEAVSGEPRLIPFHTKVRLYLGHDSHAIPLPNRIRGMSEGLLRPVSEGIACLDVQHLTLDQSSYLGNFHSETKPPSVSIVLECAKRHLMFRSPGQDPRFYFVANKANAVAAMCFAWPGSPAPLIRLLAVTLARWAVLCSRDLSPFFLTGISGPVKYNSTAHGRAVLYTPLAKEQILLDRRSLSVLILAKRVLIMGNSTQDLSGSVLTQDSRFSWSYSIQTLEVMERWLCRSCQSGSYLTGELGPTFVEVFSASPCNCVHLMLAPRTTSVLGVIGCSDDYNLREQVANRVIRSFPLMVTSGLVSGESRICSACDTHVAARHMEHDRLIMGLYLQERPCTLDTTVCQGLTPSDCLVLGKAPFGISIRINILLRWYRREVPPADELLNTILDRDYAPSNDRQWRA\n"
     ]
    }
   ],
   "source": [
    "# Generate Codon Table (RNA)\n",
    "bases = ['U', 'C', 'A', 'G']\n",
    "codons = [a+b+c for a in bases for b in bases for c in bases]\n",
    "amino_acids = 'FFLLSSSSYY**CC*WLLLLPPPPHHQQRRRRIIIMTTTTNNKKSSRRVVVVAAAADDEEGGGG'\n",
    "codon_table = dict(zip(codons, amino_acids))\n",
    "\n",
    "# Translate function\n",
    "def translate(rna):\n",
    "    rna = rna.replace('\\n', '').replace(' ', '')\n",
    "    peptide = ''\n",
    "    \n",
    "    for i in range(0, len(rna), 3):\n",
    "        codon = rna[i: i+3]\n",
    "        amino_acid = codon_table.get(codon, '*')\n",
    "        if amino_acid != '*':\n",
    "            peptide += amino_acid\n",
    "        else:\n",
    "            break\n",
    "                 \n",
    "    return peptide\n",
    "\n",
    "f = open('rosalind_prot.txt', 'r')\n",
    "f = f.read()\n",
    "\n",
    "print (translate(f))\n"
   ]
  },
  {
   "cell_type": "markdown",
   "metadata": {
    "collapsed": true
   },
   "source": [
    "## Finding a Motif in DNA"
   ]
  },
  {
   "cell_type": "markdown",
   "metadata": {},
   "source": [
    "**Problem**\n",
    "\n",
    "Given two strings s and t, t is a substring of s if t is contained as a contiguous collection of symbols in s (as a result, t must be no longer than s).\n",
    "\n",
    "The position of a symbol in a string is the total number of symbols found to its left, including itself (e.g., the positions of all occurrences of 'U' in \"AUGCUUCAGAAAGGUCUUACG\" are 2, 5, 6, 15, 17, and 18). The symbol at position i of s is denoted by s[i].\n",
    "\n",
    "A substring of s can be represented as s[j:k], where j and k represent the starting and ending positions of the substring in s; for example, if s = \"AUGCUUCAGAAAGGUCUUACG\", then s[2:5] = \"UGCU\".\n",
    "\n",
    "The location of a substring s[j:k] is its beginning position j; note that t will have multiple locations in s if it occurs more than once as a substring of s (see the Sample below).\n",
    "\n",
    "Given: Two DNA strings s and t (each of length at most 1 kbp).\n",
    "\n",
    "Return: All locations of t as a substring of s.\n",
    "\n",
    "*Reference: http://http://rosalind.info/problems/subs/*"
   ]
  },
  {
   "cell_type": "code",
   "execution_count": 22,
   "metadata": {},
   "outputs": [
    {
     "name": "stdout",
     "output_type": "stream",
     "text": [
      "53 135 179 205 212 219 252 273 280 320 327 369 388 453 509 524 566 574 595 610 631 641 672 736 743 750 809 816 823 830 860 877 903 910 917 962 981 "
     ]
    }
   ],
   "source": [
    "f = open('rosalind_subs.txt', 'r')\n",
    "f = f.read().split()\n",
    "s = f[0]\n",
    "t = f[1]\n",
    "locations = []\n",
    "for i in range(len(s)):\n",
    "    if t == s[i:i+len(t)]:\n",
    "        locations.append(i+1)\n",
    "\n",
    "for i in locations:\n",
    "    print (i, end=\" \")"
   ]
  },
  {
   "cell_type": "markdown",
   "metadata": {},
   "source": [
    "## Mendel's First Law"
   ]
  },
  {
   "cell_type": "markdown",
   "metadata": {},
   "source": [
    "**Problem**\n",
    "\n",
    "Probability is the mathematical study of randomly occurring phenomena. We will model such a phenomenon with a random variable, which is simply a variable that can take a number of different distinct outcomes depending on the result of an underlying random process.\n",
    "\n",
    "For example, say that we have a bag containing 3 red balls and 2 blue balls. If we let X represent the random variable corresponding to the color of a drawn ball, then the probability of each of the two outcomes is given by Pr(X=red)=35 and Pr(X=blue)=25.\n",
    "\n",
    "Random variables can be combined to yield new random variables. Returning to the ball example, let Y model the color of a second ball drawn from the bag (without replacing the first ball). The probability of Y being red depends on whether the first ball was red or blue. To represent all outcomes of X and Y, we therefore use a probability tree diagram. This branching diagram represents all possible individual probabilities for X and Y, with outcomes at the endpoints (\"leaves\") of the tree. The probability of any outcome is given by the product of probabilities along the path from the beginning of the tree; see Figure 2 for an illustrative example.\n",
    "\n",
    "An event is simply a collection of outcomes. Because outcomes are distinct, the probability of an event can be written as the sum of the probabilities of its constituent outcomes. For our colored ball example, let A be the event \"Y is blue.\" Pr(A) is equal to the sum of the probabilities of two different outcomes: Pr(X=blue and Y=blue)+Pr(X=red and Y=blue), or 310+110=25 (see Figure 2 above).\n",
    "\n",
    "Given: Three positive integers k, m, and n, representing a population containing k+m+n organisms: k individuals are homozygous dominant for a factor, m are heterozygous, and n are homozygous recessive.\n",
    "\n",
    "Return: The probability that two randomly selected mating organisms will produce an individual possessing a dominant allele (and thus displaying the dominant phenotype). Assume that any two organisms can mate.\n",
    "\n",
    "*Reference: http://rosalind.info/problems/iprb/*"
   ]
  },
  {
   "cell_type": "code",
   "execution_count": 23,
   "metadata": {},
   "outputs": [
    {
     "name": "stdout",
     "output_type": "stream",
     "text": [
      "0.7833333333333333\n"
     ]
    }
   ],
   "source": [
    "f = open('rosalind_iprb.txt', 'r')\n",
    "f = f.read().split()\n",
    "k = f[0]\n",
    "m = f[1]\n",
    "n = f[2]\n",
    "total = float(k+m+n)\n",
    "print (1 - (n/total)*((n-1)/(total-1)) - (n/total)*(m/(total-1)) - (m/total)*((m-1)/(total-1))*0.25)"
   ]
  },
  {
   "cell_type": "markdown",
   "metadata": {
    "collapsed": true
   },
   "source": [
    "## Computing GC Content "
   ]
  },
  {
   "cell_type": "markdown",
   "metadata": {},
   "source": [
    "**Problem**\n",
    "\n",
    "The GC-content of a DNA string is given by the percentage of symbols in the string that are 'C' or 'G'. For example, the GC-content of \"AGCTATAG\" is 37.5%. Note that the reverse complement of any DNA string has the same GC-content.\n",
    "\n",
    "DNA strings must be labeled when they are consolidated into a database. A commonly used method of string labeling is called FASTA format. In this format, the string is introduced by a line that begins with '>', followed by some labeling information. Subsequent lines contain the string itself; the first line to begin with '>' indicates the label of the next string.\n",
    "\n",
    "In Rosalind's implementation, a string in FASTA format will be labeled by the ID \"Rosalind_xxxx\", where \"xxxx\" denotes a four-digit code between 0000 and 9999.\n",
    "\n",
    "Given: At most 10 DNA strings in FASTA format (of length at most 1 kbp each).\n",
    "\n",
    "Return: The ID of the string having the highest GC-content, followed by the GC-content of that string. Rosalind allows for a default error of 0.001 in all decimal answers unless otherwise stated; please see the note on absolute error below.\n",
    "\n",
    "*Reference*: http://rosalind.info/problems/gc/"
   ]
  },
  {
   "cell_type": "code",
   "execution_count": 22,
   "metadata": {
    "scrolled": true
   },
   "outputs": [
    {
     "name": "stdout",
     "output_type": "stream",
     "text": [
      "Rosalind_9625\n",
      "55.066079%\n"
     ]
    }
   ],
   "source": [
    "def parse_fasta(dataset):\n",
    "    results = {}\n",
    "    strings = dataset.strip().split('>')\n",
    "\n",
    "    for dataset in strings:\n",
    "        if len(dataset) == 0:\n",
    "            continue\n",
    "\n",
    "        parts = dataset.split()\n",
    "        label = parts[0]\n",
    "        bases = ''.join(parts[1:])\n",
    "\n",
    "        results[label] = bases\n",
    "        \n",
    "    return results\n",
    "\n",
    "def gc_content(dna_string):\n",
    "    n = len(dna_string)\n",
    "    counter = 0\n",
    "    \n",
    "    for symbol in dna_string:\n",
    "        if symbol == 'G' or symbol == 'C':\n",
    "            counter += 1\n",
    "\n",
    "    return 100 * (float(counter) / n)\n",
    "\n",
    "if __name__ == \"__main__\":\n",
    "\n",
    "    large_dataset = open('rosalind_gc.txt').read()\n",
    "\n",
    "    results = parse_fasta(large_dataset)\n",
    "    results = dict([(k, gc_content(v)) for k, v in results.items()])\n",
    "\n",
    "    highest_k = None\n",
    "    highest_v = 0\n",
    "\n",
    "    for k, v in results.items():\n",
    "        if v > highest_v:\n",
    "            highest_k = k\n",
    "            highest_v = v\n",
    "\n",
    "    print (highest_k)\n",
    "    print ('%f%%' % highest_v)"
   ]
  },
  {
   "cell_type": "markdown",
   "metadata": {},
   "source": [
    "## Calculating Protein Mass "
   ]
  },
  {
   "cell_type": "markdown",
   "metadata": {},
   "source": [
    "**Problem**\n",
    "\n",
    "In a weighted alphabet, every symbol is assigned a positive real number called a weight. A string formed from a weighted alphabet is called a weighted string, and its weight is equal to the sum of the weights of its symbols.\n",
    "\n",
    "The standard weight assigned to each member of the 20-symbol amino acid alphabet is the monoisotopic mass of the corresponding amino acid.\n",
    "\n",
    "Given: A protein string P of length at most 1000 aa.\n",
    "\n",
    "Return: The total weight of P. Consult the monoisotopic mass table.\n",
    "\n",
    "A   71.03711\n",
    "C   103.00919\n",
    "D   115.02694\n",
    "E   129.04259\n",
    "F   147.06841\n",
    "G   57.02146\n",
    "H   137.05891\n",
    "I   113.08406\n",
    "K   128.09496\n",
    "L   113.08406\n",
    "M   131.04049\n",
    "N   114.04293\n",
    "P   97.05276\n",
    "Q   128.05858\n",
    "R   156.10111\n",
    "S   87.03203\n",
    "T   101.04768\n",
    "V   99.06841\n",
    "W   186.07931\n",
    "Y   163.06333 \n",
    "\n",
    "*Reference*: http://rosalind.info/problems/prtm/"
   ]
  },
  {
   "cell_type": "code",
   "execution_count": 5,
   "metadata": {},
   "outputs": [
    {
     "name": "stdout",
     "output_type": "stream",
     "text": [
      "95188.35867000032\n"
     ]
    }
   ],
   "source": [
    "MONOISOTOPIC_MASS_TABLE = {\n",
    "    'A': 71.03711,\n",
    "    'C': 103.00919,\n",
    "    'D': 115.02694,\n",
    "    'E': 129.04259,\n",
    "    'F': 147.06841,\n",
    "    'G': 57.02146,\n",
    "    'H': 137.05891,\n",
    "    'I': 113.08406,\n",
    "    'K': 128.09496,\n",
    "    'L': 113.08406,\n",
    "    'M': 131.04049,\n",
    "    'N': 114.04293,\n",
    "    'P': 97.05276,\n",
    "    'Q': 128.05858,\n",
    "    'R': 156.10111,\n",
    "    'S': 87.03203,\n",
    "    'T': 101.04768,\n",
    "    'V': 99.06841,\n",
    "    'W': 186.07931,\n",
    "    'Y': 163.06333,\n",
    "}\n",
    "\n",
    "def weight(weighted_string):\n",
    "    n = 0\n",
    "    for aa in weighted_string:\n",
    "        n += MONOISOTOPIC_MASS_TABLE[aa]\n",
    "    return n\n",
    "\n",
    "\n",
    "if __name__ == \"__main__\":\n",
    "\n",
    "    small_dataset = \"SKADYEK\"\n",
    "    large_dataset = open('rosalind_prtm.txt').read().strip()\n",
    "\n",
    "    print (weight(large_dataset))\n"
   ]
  },
  {
   "cell_type": "markdown",
   "metadata": {},
   "source": [
    "## Inferring mRNA from Protein"
   ]
  },
  {
   "cell_type": "markdown",
   "metadata": {},
   "source": [
    "**Problem**\n",
    "\n",
    "For positive integers a and n, a modulo n (written amodn in shorthand) is the remainder when a is divided by n. For example, 29mod11=7 because 29=11×2+7.\n",
    "\n",
    "Modular arithmetic is the study of addition, subtraction, multiplication, and division with respect to the modulo operation. We say that a and b are congruent modulo n if amodn=bmodn; in this case, we use the notation a≡bmodn.\n",
    "\n",
    "Two useful facts in modular arithmetic are that if a≡bmodn and c≡dmodn, then a+c≡b+dmodn and a×c≡b×dmodn. To check your understanding of these rules, you may wish to verify these relationships for a=29, b=73, c=10, d=32, and n=11.\n",
    "\n",
    "As you will see in this exercise, some Rosalind problems will ask for a (very large) integer solution modulo a smaller number to avoid the computational pitfalls that arise with storing such large numbers.\n",
    "\n",
    "Given: A protein string of length at most 1000 aa.\n",
    "\n",
    "Return: The total number of different RNA strings from which the protein could have been translated, modulo 1,000,000. (Don't neglect the importance of the stop codon in protein translation.)\n",
    "\n",
    "Hint: What does it mean intuitively to take a number modulo 1,000,000?\n",
    "\n",
    "*Reference*: http://rosalind.info/problems/mrna/"
   ]
  },
  {
   "cell_type": "code",
   "execution_count": 1,
   "metadata": {
    "scrolled": true
   },
   "outputs": [
    {
     "name": "stdout",
     "output_type": "stream",
     "text": [
      "740928\n"
     ]
    }
   ],
   "source": [
    "RNA_CODON_TABLE = {\n",
    "    'UUU': 'F',     'CUU': 'L',     'AUU': 'I',     'GUU': 'V',\n",
    "    'UUC': 'F',     'CUC': 'L',     'AUC': 'I',     'GUC': 'V',\n",
    "    'UUA': 'L',     'CUA': 'L',     'AUA': 'I',     'GUA': 'V',\n",
    "    'UUG': 'L',     'CUG': 'L',     'AUG': 'M',     'GUG': 'V',\n",
    "    'UCU': 'S',     'CCU': 'P',     'ACU': 'T',     'GCU': 'A',\n",
    "    'UCC': 'S',     'CCC': 'P',     'ACC': 'T',     'GCC': 'A',\n",
    "    'UCA': 'S',     'CCA': 'P',     'ACA': 'T',     'GCA': 'A',\n",
    "    'UCG': 'S',     'CCG': 'P',     'ACG': 'T',     'GCG': 'A',\n",
    "    'UAU': 'Y',     'CAU': 'H',     'AAU': 'N',     'GAU': 'D',\n",
    "    'UAC': 'Y',     'CAC': 'H',     'AAC': 'N',     'GAC': 'D',\n",
    "    'UAA': 'Stop',  'CAA': 'Q',     'AAA': 'K',     'GAA': 'E',\n",
    "    'UAG': 'Stop',  'CAG': 'Q',     'AAG': 'K',     'GAG': 'E',\n",
    "    'UGU': 'C',     'CGU': 'R',     'AGU': 'S',     'GGU': 'G',\n",
    "    'UGC': 'C',     'CGC': 'R',     'AGC': 'S',     'GGC': 'G',\n",
    "    'UGA': 'Stop',  'CGA': 'R',     'AGA': 'R',     'GGA': 'G',\n",
    "    'UGG': 'W',     'CGG': 'R',     'AGG': 'R',     'GGG': 'G'\n",
    "}\n",
    "\n",
    "def codon_frequencies():\n",
    "    frequencies = {}\n",
    "    for k, v in RNA_CODON_TABLE.items():\n",
    "        if v not in frequencies:\n",
    "            frequencies[v] = 0\n",
    "        frequencies[v] += 1\n",
    "        #print (frequencies[v])\n",
    "    return frequencies\n",
    "\n",
    "\n",
    "def possible_rna_strings(input):\n",
    "    f = codon_frequencies()\n",
    "    n = f['Stop']\n",
    "\n",
    "    for c in input:\n",
    "        n *= f[c]\n",
    "    return n\n",
    "\n",
    "\n",
    "if __name__ == \"__main__\":\n",
    "\n",
    "    small_dataset = \"MA\"\n",
    "    large_dataset = open('rosalind_mrna.txt').read().strip()\n",
    "\n",
    "    print ( possible_rna_strings(large_dataset) % 1000000 )\n"
   ]
  },
  {
   "cell_type": "markdown",
   "metadata": {},
   "source": [
    "## Calculating Expected Offspring"
   ]
  },
  {
   "cell_type": "markdown",
   "metadata": {},
   "source": [
    "**Problem**\n",
    "\n",
    "For a random variable X taking integer values between 1 and n, the expected value of X is E(X)=∑nk=1k×Pr(X=k). The expected value offers us a way of taking the long-term average of a random variable over a large number of trials.\n",
    "\n",
    "As a motivating example, let X be the number on a six-sided die. Over a large number of rolls, we should expect to obtain an average of 3.5 on the die (even though it's not possible to roll a 3.5). The formula for expected value confirms that E(X)=∑6k=1k×Pr(X=k)=3.5.\n",
    "\n",
    "More generally, a random variable for which every one of a number of equally spaced outcomes has the same probability is called a uniform random variable (in the die example, this \"equal spacing\" is equal to 1). We can generalize our die example to find that if X is a uniform random variable with minimum possible value a and maximum possible value b, then E(X)=a+b2. You may also wish to verify that for the dice example, if Y is the random variable associated with the outcome of a second die roll, then E(X+Y)=7.\n",
    "\n",
    "Given: Six nonnegative integers, each of which does not exceed 20,000. The integers correspond to the number of couples in a population possessing each genotype pairing for a given factor. In order, the six given integers represent the number of couples having the following genotypes:\n",
    "\n",
    "AA-AA\n",
    "AA-Aa\n",
    "AA-aa\n",
    "Aa-Aa\n",
    "Aa-aa\n",
    "aa-aa\n",
    "\n",
    "Return: The expected number of offspring displaying the dominant phenotype in the next generation, under the assumption that every couple has exactly two offspring.\n",
    "\n",
    "*Reference*: http://rosalind.info/problems/iev/"
   ]
  },
  {
   "cell_type": "code",
   "execution_count": 4,
   "metadata": {},
   "outputs": [
    {
     "name": "stdout",
     "output_type": "stream",
     "text": [
      "3.5\n"
     ]
    }
   ],
   "source": [
    "if __name__ == \"__main__\":\n",
    "    #fid = open('rosalind_iev.txt','r')\n",
    "    #fout = open('out.txt','w')\n",
    "    array = [float(x) for x in fid.readline().split()]\n",
    "    \n",
    "    multiplier = [1.0,1.0,1.0,0.75,0.5,0]\n",
    "    \n",
    "    exp = 0\n",
    "    for x in range(6):\n",
    "        exp = exp + 2* array[x]*multiplier[x]\n",
    "    print (exp)"
   ]
  },
  {
   "cell_type": "code",
   "execution_count": null,
   "metadata": {},
   "outputs": [],
   "source": []
  }
 ],
 "metadata": {
  "celltoolbar": "Raw Cell Format",
  "kernelspec": {
   "display_name": "Python 3",
   "language": "python",
   "name": "python3"
  },
  "language_info": {
   "codemirror_mode": {
    "name": "ipython",
    "version": 3
   },
   "file_extension": ".py",
   "mimetype": "text/x-python",
   "name": "python",
   "nbconvert_exporter": "python",
   "pygments_lexer": "ipython3",
   "version": "3.7.4"
  }
 },
 "nbformat": 4,
 "nbformat_minor": 2
}
