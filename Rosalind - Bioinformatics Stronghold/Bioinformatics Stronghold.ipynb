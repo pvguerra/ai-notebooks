{
 "cells": [
  {
   "cell_type": "markdown",
   "metadata": {},
   "source": [
    "# Bioinformatics Stronghold - Tree"
   ]
  },
  {
   "cell_type": "markdown",
   "metadata": {},
   "source": [
    "## Counting DNA Nucleotides"
   ]
  },
  {
   "cell_type": "markdown",
   "metadata": {},
   "source": [
    "**Problem**\n",
    "\n",
    "A string is simply an ordered collection of symbols selected from some alphabet and formed into a word; the length of a string is the number of symbols that it contains.\n",
    "\n",
    "An example of a length 21 DNA string (whose alphabet contains the symbols 'A', 'C', 'G', and 'T') is \"ATGCTTCAGAAAGGTCTTACG.\"\n",
    "\n",
    "Given: A DNA string s of length at most 1000 nt.\n",
    "\n",
    "Return: Four integers (separated by spaces) counting the respective number of times that the symbols 'A', 'C', 'G', and 'T' occur in s.\n",
    "\n",
    "Sample Dataset:\n",
    "rosalind_dna.txt\n",
    "\n",
    "*Reference: http://rosalind.info/problems/dna/*"
   ]
  },
  {
   "cell_type": "code",
   "execution_count": 19,
   "metadata": {},
   "outputs": [
    {
     "name": "stdout",
     "output_type": "stream",
     "text": [
      "214 267 271 248\n"
     ]
    }
   ],
   "source": [
    "f = open('rosalind_dna.txt', 'r')\n",
    "s = f.read()\n",
    "print (s.count('A'), s.count('C'), s.count('G'), s.count('T'))"
   ]
  },
  {
   "cell_type": "markdown",
   "metadata": {},
   "source": [
    "## Transcribing DNA into RNA"
   ]
  },
  {
   "cell_type": "markdown",
   "metadata": {},
   "source": [
    "**Problem**\n",
    "\n",
    "An RNA string is a string formed from the alphabet containing 'A', 'C', 'G', and 'U'.\n",
    "\n",
    "Given a DNA string t corresponding to a coding strand, its transcribed RNA string u is formed by replacing all occurrences of 'T' in t with 'U' in u.\n",
    "\n",
    "Given: A DNA string t having length at most 1000 nt.\n",
    "\n",
    "Return: The transcribed RNA string of t.\n",
    "\n",
    "Sample Dataset:\n",
    "rosalind_rna.txt\n",
    "\n",
    "*Reference: http://rosalind.info/problems/rna/*"
   ]
  },
  {
   "cell_type": "code",
   "execution_count": 2,
   "metadata": {},
   "outputs": [
    {
     "name": "stdout",
     "output_type": "stream",
     "text": [
      "GACGAUCGCUUUACGUACAUCCCAGGCGAAACACACAAACAAUCUCAAUGGACACUGCCGAUGACUAGCUCUCGAAGCACCUCGUUGGAAGGUCGCCGUGAAUACUGGCCCCAGAGGUUUUUUUCACGCCAAGCUUGUGAUAUGAGAAGACUUCGUUAUAUAACUCGGGACACGCGUAUCAGGGGGCGUGCGACCUCCUGGUGCCAAGAGUGUAGUCUCCCAGUGUGUGACGUGUAAGCAUAUCACUAUAUUUGAGUAUCAAAUGGCAUGAGAUGGCACAGCCUGGAGGCUCGCUUCAUUUGCAUAAAUACUUCAUCUUCUGCCGGGGAGGGUGAGCAUGCAUGACGUGAAGCUAUAGAGGAUUCAGGGACAUUCCGCUUCAUCGAACAGGCCCGGUGGUAGGGACCUAGCCUCACGAACGGGAACGCCCGCAUCGUAAGAUACCUGUGGUGCCACACUCAGUGUUUGUGGCUUUACUUGCGUAUACAGCGAAGACUCAUCCGUAGGUACCCUGAGUUAAACUACAUGCUCUUGCGGGCCUGGGGCGCGUUUCUAGCGGAGAACUGCACGAGAACCGCCCUUGCCAUGUGGAAGAACCGGGCGAUGCGACUGAAUAGUGAGCCGUAAUUUAACGGACUGAGUCGUAUGCUCUCAAGGAGAGUCUCGUGAUGUCUCCCUACUGAUGUUGAGGCUAUCAGUACUUGAAGGGACUGCAGAGCCCCUCAUAUGUAGUUGCCUCCGUCCAAAAUUCUUUUAGCAAUUAUUGAGUGGUUUAGUGAAGCGUUGCCACCUCGGCGAGAUUCUGGAGCCUAACGCCUAACUCUGUUCAACUCUGUAUGGCACGUUCGUUUGACUGCCACGCACAGAGAUGCGCCCUGAGCAUCUUUAGCCCGCACCGUCAAUGCAUAGACGCGCAGGUUGCCCCAUCGAUCUUGAAGGUCCUAGUUAAUGG\n",
      "\n"
     ]
    }
   ],
   "source": [
    "f = open('rosalind_rna.txt', 'r')\n",
    "t = f.read()\n",
    "print (t.replace('T', 'U'))"
   ]
  },
  {
   "cell_type": "markdown",
   "metadata": {
    "collapsed": true
   },
   "source": [
    "## Complementing a Strand of DNA"
   ]
  },
  {
   "cell_type": "markdown",
   "metadata": {},
   "source": [
    "**Problem**\n",
    "\n",
    "In DNA strings, symbols 'A' and 'T' are complements of each other, as are 'C' and 'G'.\n",
    "\n",
    "The reverse complement of a DNA string s is the string sc formed by reversing the symbols of s, then taking the complement of each symbol (e.g., the reverse complement of \"GTCA\" is \"TGAC\").\n",
    "\n",
    "Given: A DNA string s of length at most 1000 bp.\n",
    "\n",
    "Return: The reverse complement sc of s.\n",
    "\n",
    "Sample Dataset: rosalind_revc.txt\n",
    "\n",
    "*Reference: http://rosalind.info/problems/revc/*\n"
   ]
  },
  {
   "cell_type": "code",
   "execution_count": 20,
   "metadata": {},
   "outputs": [
    {
     "name": "stdout",
     "output_type": "stream",
     "text": [
      "\n",
      "CCTCGGGTAGGAGACGCTCCAACGAGGCACCCGGTTGGTGACCACGCGTTACTAATCCTATGCGATTATGCGACGCAGCACCGACGTGATGAAGGAAAGACAAATTCTGCAACCCGGATTGATGCCCTGGGGGAATCCCACATCACGGATGACAGAACAATCCCAACATCGAAGCGCGTCGTCGGCGATTTCTAAGTACTAGCCAACAGCCAAAGCCTTACGGCGACTGTCCTCGGCCGCCTGGGTCACCACGGATTACTGCGACCAGGAGAACAGATACGACGTTGTGATTGCATCACACGTCATCCCCAGGCGTGTGCCCTCTCAGAAAGACCTCTACCGGCGCTTCTACCCGCGGTTCTTGGGTTCAGCCGATAAACATCTGTCGTTGGGCGGGAGCGTAAATTATCACGATCAACTTGGCCGGTGGCTGAACAAGACGCCATGGCCGCCCCTGCTCCCAGGGTGTAAGCTCGAAGGACGGTTCACGTAATCCAGATATAGATTGGAACAAGGACGAATCGGTCCGCCGAAGCGGTCAAATCCGACGGAGCTTCTCGGCTAGTGAATACATATTTATAGAGGGACATAACCTGTTATGTCGTACAGCAGTCTCTCCTTTGATCCGCCGGCCTACGTGCGACTATCCCTCCTCACTCAGAGGGTACACTAAGGCTTTCCAGGAGCTGCGGAAAAGTTGGACGCTACTGGTCATACCCGTAGTTTGGCCCCTACATACTTTCCATGACGCGCCTGATCTCGGCTATGTCTGGGCCTTTACCCAAGCGCGCACCTATCCTCTGTTCCACTAGAGTGGAGACATTGCGTATGTTCCGGAGGGCACTTTCGGTGTCATATACTGCAGGGTCGTTTTCGGTGAGGCCTCTGCCGCGAAAGAGCTATGATGCATAGTTAGA\n"
     ]
    }
   ],
   "source": [
    "f = open('rosalind_revc.txt', 'r')\n",
    "trans = str.maketrans('ATGC', 'TACG')\n",
    "revc = f.read().translate(trans)\n",
    "print(revc[::-1])\n"
   ]
  },
  {
   "cell_type": "markdown",
   "metadata": {},
   "source": [
    "## Rabbits and Recurrence Relations"
   ]
  },
  {
   "cell_type": "markdown",
   "metadata": {},
   "source": [
    "**Problem**\n",
    "\n",
    "A sequence is an ordered collection of objects (usually numbers), which are allowed to repeat. Sequences can be finite or infinite. Two examples are the finite sequence (π,−2‾√,0,π) and the infinite sequence of odd numbers (1,3,5,7,9,…). We use the notation an to represent the n-th term of a sequence.\n",
    "\n",
    "A recurrence relation is a way of defining the terms of a sequence with respect to the values of previous terms. In the case of Fibonacci's rabbits from the introduction, any given month will contain the rabbits that were alive the previous month, plus any new offspring. A key observation is that the number of offspring in any month is equal to the number of rabbits that were alive two months prior. As a result, if Fn represents the number of rabbit pairs alive after the n-th month, then we obtain the Fibonacci sequence having terms Fn that are defined by the recurrence relation Fn=Fn−1+Fn−2 (with F1=F2=1 to initiate the sequence). Although the sequence bears Fibonacci's name, it was known to Indian mathematicians over two millennia ago.\n",
    "\n",
    "When finding the n-th term of a sequence defined by a recurrence relation, we can simply use the recurrence relation to generate terms for progressively larger values of n. This problem introduces us to the computational technique of dynamic programming, which successively builds up solutions by using the answers to smaller cases.\n",
    "\n",
    "Given: Positive integers n≤40 and k≤5.\n",
    "\n",
    "Return: The total number of rabbit pairs that will be present after n months, if we begin with 1 pair and in each generation, every pair of reproduction-age rabbits produces a litter of k rabbit pairs (instead of only 1 pair).\n",
    "\n",
    "Sample Dataset: rosalind_fib.txt\n",
    "\n",
    "*Reference: http://rosalind.info/problems/fib/*"
   ]
  },
  {
   "cell_type": "code",
   "execution_count": 45,
   "metadata": {},
   "outputs": [
    {
     "name": "stdout",
     "output_type": "stream",
     "text": [
      "20444528200\n"
     ]
    }
   ],
   "source": [
    "f = open('rosalind_fib.txt', 'r')\n",
    "f = f.read().split()\n",
    "n = int(f[0])\n",
    "k = int(f[1])\n",
    "\n",
    "def rabbits(n, k):\n",
    "   if n == 0:\n",
    "       return 0\n",
    "   if n == 1:\n",
    "       return 1\n",
    "   else:\n",
    "       return rabbits(n-1, k) + k*rabbits(n-2, k)\n",
    "print (rabbits(n, k))"
   ]
  },
  {
   "cell_type": "markdown",
   "metadata": {
    "collapsed": true
   },
   "source": [
    "## Counting Point Mutations"
   ]
  },
  {
   "cell_type": "markdown",
   "metadata": {},
   "source": [
    "**Problem**\n",
    "\n",
    "Given two strings s and t of equal length, the Hamming distance between s and t, denoted dH(s,t), is the number of corresponding symbols that differ in s and t.\n",
    "\n",
    "Given: Two DNA strings s and t of equal length (not exceeding 1 kbp).\n",
    "\n",
    "Return: The Hamming distance dH(s,t).\n",
    "\n",
    "Sample Dataset: rosalind_hamm.txt\n",
    "\n",
    "*Reference: http://rosalind.info/problems/hamm/*"
   ]
  },
  {
   "cell_type": "code",
   "execution_count": 22,
   "metadata": {},
   "outputs": [
    {
     "name": "stdout",
     "output_type": "stream",
     "text": [
      "475\n"
     ]
    }
   ],
   "source": [
    "f = open('rosalind_hamm.txt', 'r')\n",
    "f = f.read().split()\n",
    "s = f[0]\n",
    "t = f[1]\n",
    "count = 0\n",
    "\n",
    "for i in range(len(s)):\n",
    "    if s[i] != t[i]:\n",
    "        count = count + 1\n",
    "\n",
    "print (count)"
   ]
  },
  {
   "cell_type": "markdown",
   "metadata": {
    "collapsed": true
   },
   "source": [
    "## Translating RNA into Protein"
   ]
  },
  {
   "cell_type": "markdown",
   "metadata": {},
   "source": [
    "**Problem**\n",
    "\n",
    "The 20 commonly occurring amino acids are abbreviated by using 20 letters from the English alphabet (all letters except for B, J, O, U, X, and Z). Protein strings are constructed from these 20 symbols. Henceforth, the term genetic string will incorporate protein strings along with DNA strings and RNA strings.\n",
    "\n",
    "The RNA codon table dictates the details regarding the encoding of specific codons into the amino acid alphabet.\n",
    "\n",
    "Given: An RNA string s corresponding to a strand of mRNA (of length at most 10 kbp).\n",
    "\n",
    "Return: The protein string encoded by s.\n",
    "\n",
    "Sample Dataset: rosalind_prot.txt\n",
    "\n",
    "*Reference: http://rosalind.info/problems/prot/*"
   ]
  },
  {
   "cell_type": "code",
   "execution_count": 7,
   "metadata": {},
   "outputs": [
    {
     "name": "stdout",
     "output_type": "stream",
     "text": [
      "MSYRQGAKDLNTLSARKLSAETNEAFLVYTGVLLLVTHRTRVPNDTGLNIYANRKRFQRDVIKSFAAPGRTLPQTPPMERVTAAQRSNPALVNRDMEIFRENSVVVRRRRAYRAIPRKVVASHILRFVIYTHHGGIVYQAASDSPTECDPGCCLMSERPDQCLPELLTTLSATSSCFLVGSFEKSLSPHLFIGANGGWCPLLTHSYDFSTRRNGRGAVQAVCTFVQSIKRFLGLNRYDEAARRLRWRAGKGEISPSSYYRINDSGNSNDPDTPTWRCDLTNGVGEWRSCYLHDCTIRLVVSRIGGTHFHVRSLHADCKGVARRLRACVHTIRGIFTRGLSLNANKALIIYRRRPTRGGVPAVVAVASYASNSDKNVSRRIQNEPQTIISGTTPVQKGGAPITTVTHHHRRQEQTAPLRKTPLERVARFARLGFMATTERTSERSDERLSYPQASPGQPLMYAARTGACGIGTPCGTSLCILTAHRYANRCSRANLASFTNSPLRLRPVRSPPRRTRPYAGRTSDPIWRLGPAPETDMSVHRNQGRRYDASRPYSQTVKEADDVPQITLERLAAAGFAGSLSFGLISFFGWLNTVAAQFETKERSNGNVLANITCRQPCIVSNVPRIKSIDLICFGRLILVSVLHRTFADSETGTSHPRWTRPAVMYPELHGKPCRQREQVQSPFDRNYQAAPFNHLVHLIPGPHSFPPQNIPTRKVNGTVYDWRIITTSMLGLHSASTTCHSSGAPVGLLYYSTARSLVVAVQVVSNTTFFLVFAQPEYAGFARPRREPRVPECGSTLRRVDHPRAKLGRSLVLFLAGRLDYMDAYVRPDPGLRSRSVGRAMRLGEIIREILECVSTQRLPSYRTQGPTCAISPPIGLYWSPAPVVSQYNPLRRSRAVSRTLQCDDSLAGIARLQPRKLRGYDAWLPDLRPYGRNRRIIGMTTPMTNELKTTHSVARRSVVPSKVRIDALCITNTGGLDHQALVTSCRWAHRSLQTSVTPEPNREVYCPVGRVFRRRSRLAMTHKNSVLEVGFSVVQSSNSVDISPERSIPVNGVRIQKGIMALNKWNGRGVGYEEHPPCRAGFDVVFSPPLHYRELQHRYVVKCQMGAVRFRRFLDTPLKQADKQIRSEVLCVIVFSLHASRKGIIVGWDDQFVLPPSNSPVVLWCKGLKEDTTRIHLPQSATRWATRTMFPALCSVLYLMYRLTTHIAFICHALSAVSYVYATAHVQNRSIYSLVSSTLTNPTAVSLLWRFPTLAKFGYFASLHRMPSKDREVTTPVWYLIPCLRWPYFMVVTPLHISGRNCVISSPVWLFGDGLQLQNRDKTGYCENLAKYALRHRTLASRVISISDNLPNACPCNIALSPTRAAVSSRALHIGLLHGPSNSIYSCYARFQSARWYTWTMNISGPNRQSRLHPHHRSTRNGSRQRAGKIFFCLTPISVYALRSFAYICANWRTVGVECGDSATGGESRRCKLGSGMFPASSRTCLHVSRLKRYSVTRRKCMTLQLSCVHSRWIVSSVNWIERVSRTVQYAGLGIGRSPAIWGMGGHITPPVANLDGARVLFALDQAHSGAISTRRLDLLRGDPLALHCEGIYGGTTLLCIFIVPKTAVIVIRTKENINRSLYYFPSRPYNGKASLARRLSQPPHHGRLAAVGRAGAHSDKHSLTYYFPSRTAYKIGWLERQSHHKNSVFAPGACLPKPALVLVTPQSTYDGSRATSQTSAGVNRRRASCLQRKISTAAYLAVRSYSPDMRNGPGGPDSYCRRHPLVTPKVRSVLVPHQASDLLMLTLWLILPRALFELEKGPNSPKLPRGTFLLPNELVCGTIIYAHHFVTLMHQELSGTPWKMTSLVQRSRKVIDKGDGACRNKTVERPLVGQRWRDDKIRTKVIRSHAVVILGSCIREWILLKLASAVDGGVHEAVASLDMAGVRMRVRGQQKVYAYNITRRHPSFFNRRTWYRVRLGRQTQNPKAQPHAMPINSEAFYCREDKQIRHSENDHVHPWSLQASVRRSGAVQETGRFDKQLYWTVSKRETLHLYLPARSSCLEVDSTDEKPEVVGHIAEGYSSVSPRWHAIPQLICTIIAARRFRNWGVSAQAKSCLLMTEAARKRWDPVDAAYCRLQFLPIRGLQRPVPRRELVDYGLAWFVRTSAFRRMLYRNCEDHLMQNAMKRDITAWPALVPKCLRASVDITRLTKWFLIIVQKPHTNGARFSIPIDRLHQSRPSQPGIISVGLVRLRPVASRPMSSRLGASVVVLKTYPNHAYVVRITGAYPKAATMCGPPALPKTPAGHMAMSADVTNTRLYAARLPLIFPNLKRRGWHFPIRARHYYRYGGVDAEGQTSIHGRKMVRLAPSEVRTIGLSVLITRQRKKSESRTGELSCALDIGSGFRTVTGFVSDHRTPGFSLDWGHSYRGRVAYLGVLLKRRRRGGLLISEVRPMSCAFIQGALQRAISVCGCRSSGTPATRYETHKLKSVSRRRSFRCFRRALCDLHSAINVSHGDRSLMLYKSWCDQSCFFLRAGRFCGTLCTIKTHNNLPTPFEVLTNSANTPSGESQASTSCTQPTPSRAIRLGTSKIRGTSVRGHLHRYRRRHCPDAGLSITSARVSTPRSRPIAMIWRLMNQPAGFRFPFWLDGVILRTELTIKRMSARPSYSPVRKLIAPTIPCVQLDSDSPSSCAARIERPLRFCPDGANSHLDSSEPVPLLYQLKHGLVVDGWSWCHSVRQESGTLGAERRCTILTIYAGYYLCVVRCRDKTYRGHGHVLLLALSLVNCTTRQTGAAGMPSVRNAYAVGPCLTLPSFSGVNGQRRTCFKLVEAVSGEPRLIPFHTKVRLYLGHDSHAIPLPNRIRGMSEGLLRPVSEGIACLDVQHLTLDQSSYLGNFHSETKPPSVSIVLECAKRHLMFRSPGQDPRFYFVANKANAVAAMCFAWPGSPAPLIRLLAVTLARWAVLCSRDLSPFFLTGISGPVKYNSTAHGRAVLYTPLAKEQILLDRRSLSVLILAKRVLIMGNSTQDLSGSVLTQDSRFSWSYSIQTLEVMERWLCRSCQSGSYLTGELGPTFVEVFSASPCNCVHLMLAPRTTSVLGVIGCSDDYNLREQVANRVIRSFPLMVTSGLVSGESRICSACDTHVAARHMEHDRLIMGLYLQERPCTLDTTVCQGLTPSDCLVLGKAPFGISIRINILLRWYRREVPPADELLNTILDRDYAPSNDRQWRA\n"
     ]
    }
   ],
   "source": [
    "# Generate Codon Table (RNA)\n",
    "bases = ['U', 'C', 'A', 'G']\n",
    "codons = [a+b+c for a in bases for b in bases for c in bases]\n",
    "amino_acids = 'FFLLSSSSYY**CC*WLLLLPPPPHHQQRRRRIIIMTTTTNNKKSSRRVVVVAAAADDEEGGGG'\n",
    "codon_table = dict(zip(codons, amino_acids))\n",
    "\n",
    "# Translate function\n",
    "def translate(rna):\n",
    "    rna = rna.replace('\\n', '').replace(' ', '')\n",
    "    peptide = ''\n",
    "    \n",
    "    for i in range(0, len(rna), 3):\n",
    "        codon = rna[i: i+3]\n",
    "        amino_acid = codon_table.get(codon, '*')\n",
    "        if amino_acid != '*':\n",
    "            peptide += amino_acid\n",
    "        else:\n",
    "            break\n",
    "                 \n",
    "    return peptide\n",
    "\n",
    "f = open('rosalind_prot.txt', 'r')\n",
    "f = f.read()\n",
    "\n",
    "print (translate(f))\n"
   ]
  },
  {
   "cell_type": "markdown",
   "metadata": {
    "collapsed": true
   },
   "source": [
    "## Finding a Motif in DNA"
   ]
  },
  {
   "cell_type": "markdown",
   "metadata": {},
   "source": [
    "**Problem**\n",
    "\n",
    "Given two strings s and t, t is a substring of s if t is contained as a contiguous collection of symbols in s (as a result, t must be no longer than s).\n",
    "\n",
    "The position of a symbol in a string is the total number of symbols found to its left, including itself (e.g., the positions of all occurrences of 'U' in \"AUGCUUCAGAAAGGUCUUACG\" are 2, 5, 6, 15, 17, and 18). The symbol at position i of s is denoted by s[i].\n",
    "\n",
    "A substring of s can be represented as s[j:k], where j and k represent the starting and ending positions of the substring in s; for example, if s = \"AUGCUUCAGAAAGGUCUUACG\", then s[2:5] = \"UGCU\".\n",
    "\n",
    "The location of a substring s[j:k] is its beginning position j; note that t will have multiple locations in s if it occurs more than once as a substring of s (see the Sample below).\n",
    "\n",
    "Given: Two DNA strings s and t (each of length at most 1 kbp).\n",
    "\n",
    "Return: All locations of t as a substring of s.\n",
    "\n",
    "*Reference: http://http://rosalind.info/problems/subs/*"
   ]
  },
  {
   "cell_type": "code",
   "execution_count": 22,
   "metadata": {},
   "outputs": [
    {
     "name": "stdout",
     "output_type": "stream",
     "text": [
      "53 135 179 205 212 219 252 273 280 320 327 369 388 453 509 524 566 574 595 610 631 641 672 736 743 750 809 816 823 830 860 877 903 910 917 962 981 "
     ]
    }
   ],
   "source": [
    "f = open('rosalind_subs.txt', 'r')\n",
    "f = f.read().split()\n",
    "s = f[0]\n",
    "t = f[1]\n",
    "locations = []\n",
    "for i in range(len(s)):\n",
    "    if t == s[i:i+len(t)]:\n",
    "        locations.append(i+1)\n",
    "\n",
    "for i in locations:\n",
    "    print (i, end=\" \")"
   ]
  },
  {
   "cell_type": "markdown",
   "metadata": {},
   "source": [
    "## Mendel's First Law"
   ]
  },
  {
   "cell_type": "markdown",
   "metadata": {},
   "source": [
    "**Problem**\n",
    "\n",
    "Probability is the mathematical study of randomly occurring phenomena. We will model such a phenomenon with a random variable, which is simply a variable that can take a number of different distinct outcomes depending on the result of an underlying random process.\n",
    "\n",
    "For example, say that we have a bag containing 3 red balls and 2 blue balls. If we let X represent the random variable corresponding to the color of a drawn ball, then the probability of each of the two outcomes is given by Pr(X=red)=35 and Pr(X=blue)=25.\n",
    "\n",
    "Random variables can be combined to yield new random variables. Returning to the ball example, let Y model the color of a second ball drawn from the bag (without replacing the first ball). The probability of Y being red depends on whether the first ball was red or blue. To represent all outcomes of X and Y, we therefore use a probability tree diagram. This branching diagram represents all possible individual probabilities for X and Y, with outcomes at the endpoints (\"leaves\") of the tree. The probability of any outcome is given by the product of probabilities along the path from the beginning of the tree; see Figure 2 for an illustrative example.\n",
    "\n",
    "An event is simply a collection of outcomes. Because outcomes are distinct, the probability of an event can be written as the sum of the probabilities of its constituent outcomes. For our colored ball example, let A be the event \"Y is blue.\" Pr(A) is equal to the sum of the probabilities of two different outcomes: Pr(X=blue and Y=blue)+Pr(X=red and Y=blue), or 310+110=25 (see Figure 2 above).\n",
    "\n",
    "Given: Three positive integers k, m, and n, representing a population containing k+m+n organisms: k individuals are homozygous dominant for a factor, m are heterozygous, and n are homozygous recessive.\n",
    "\n",
    "Return: The probability that two randomly selected mating organisms will produce an individual possessing a dominant allele (and thus displaying the dominant phenotype). Assume that any two organisms can mate.\n",
    "\n",
    "*Reference: http://rosalind.info/problems/iprb/*"
   ]
  },
  {
   "cell_type": "code",
   "execution_count": 23,
   "metadata": {},
   "outputs": [
    {
     "name": "stdout",
     "output_type": "stream",
     "text": [
      "0.7833333333333333\n"
     ]
    }
   ],
   "source": [
    "f = open('rosalind_iprb.txt', 'r')\n",
    "f = f.read().split()\n",
    "k = f[0]\n",
    "m = f[1]\n",
    "n = f[2]\n",
    "total = float(k+m+n)\n",
    "print (1 - (n/total)*((n-1)/(total-1)) - (n/total)*(m/(total-1)) - (m/total)*((m-1)/(total-1))*0.25)"
   ]
  },
  {
   "cell_type": "code",
   "execution_count": null,
   "metadata": {
    "collapsed": true
   },
   "outputs": [],
   "source": []
  }
 ],
 "metadata": {
  "celltoolbar": "Raw Cell Format",
  "kernelspec": {
   "display_name": "Python 3",
   "language": "python",
   "name": "python3"
  },
  "language_info": {
   "codemirror_mode": {
    "name": "ipython",
    "version": 3
   },
   "file_extension": ".py",
   "mimetype": "text/x-python",
   "name": "python",
   "nbconvert_exporter": "python",
   "pygments_lexer": "ipython3",
   "version": "3.6.2"
  }
 },
 "nbformat": 4,
 "nbformat_minor": 2
}
